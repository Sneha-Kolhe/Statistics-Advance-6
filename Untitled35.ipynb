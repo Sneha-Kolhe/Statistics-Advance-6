{
 "cells": [
  {
   "cell_type": "markdown",
   "id": "b9093e94-85ff-4ced-b985-292cb34240ca",
   "metadata": {},
   "source": [
    "## Q1. Explain the assumptions required to use ANOVA and provide examples of violations that could impact\n",
    "the validity of the results."
   ]
  },
  {
   "cell_type": "code",
   "execution_count": null,
   "id": "dc0aa29b-9671-4659-9199-d7e08a1cc8aa",
   "metadata": {},
   "outputs": [],
   "source": [
    "Independence: The observations within each group are independent of each other. This means that the data points in one group should not be related to or influenced by the data points in another group.\n",
    "\n",
    "Normality: The residuals (the differences between observed and predicted values) within each group should be normally distributed. This assumption is more critical for smaller sample sizes. Violations of this assumption can lead to incorrect p-values and confidence intervals.\n",
    "\n",
    "Homogeneity of variances (homoscedasticity): The variance of the residuals should be constant across all groups. In other words, the spread of the data points around the group means should be similar for all groups. If variances are unequal, it can affect the precision of the estimates and the Type I error rate.\n",
    "\n",
    "Interval or ratio scale: The dependent variable should be measured on an interval or ratio scale. This means that the data should be numeric and have meaningful intervals between values.\n",
    "\n",
    "Examples of violations of these assumptions and their impacts:\n",
    "\n",
    "Non-independence:\n",
    "\n",
    "Violation: In a study comparing test scores of students from different schools, if students within the same school are allowed to collaborate on the test, their scores may not be independent.\n",
    "Impact: Non-independence can lead to inflated Type I error rates, resulting in false-positive conclusions about differences between groups.\n",
    "Non-normality:\n",
    "\n",
    "Violation: Test scores may not follow a normal distribution due to factors like skewed data or outliers.\n",
    "Impact: Violations of normality can distort the shape of the distribution and affect the accuracy of p-values and confidence intervals. Transforming the data or using non-parametric tests may be necessary in such cases.\n",
    "Homogeneity of variances:\n",
    "\n",
    "Violation: In a study comparing the effectiveness of different teaching methods, if one group has much larger variability in student performance than others, homogeneity of variances may be violated.\n",
    "Impact: Unequal variances can lead to biased estimates of group differences and inflate Type I error rates. Using Welch's ANOVA or transforming the data may help address this issue.\n",
    "Scale of measurement:\n",
    "\n",
    "Violation: Using ordinal data (e.g., Likert scale ratings) as if they were interval data.\n",
    "Impact: ANOVA assumes interval or ratio data, so using ordinal data can lead to inaccurate results and interpretations. Non-parametric alternatives like the Kruskal-Wallis test may be more appropriate for ordinal data.\n",
    "Overall, it's essential to assess these assumptions before conducting ANOVA and consider appropriate remedies or alternative methods if any assumptions are violated to ensure the validity of the results."
   ]
  }
 ],
 "metadata": {
  "kernelspec": {
   "display_name": "Python 3 (ipykernel)",
   "language": "python",
   "name": "python3"
  },
  "language_info": {
   "codemirror_mode": {
    "name": "ipython",
    "version": 3
   },
   "file_extension": ".py",
   "mimetype": "text/x-python",
   "name": "python",
   "nbconvert_exporter": "python",
   "pygments_lexer": "ipython3",
   "version": "3.10.8"
  }
 },
 "nbformat": 4,
 "nbformat_minor": 5
}
